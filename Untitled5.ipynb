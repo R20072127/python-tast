{
  "nbformat": 4,
  "nbformat_minor": 0,
  "metadata": {
    "colab": {
      "name": "Untitled5.ipynb",
      "provenance": [],
      "include_colab_link": true
    },
    "kernelspec": {
      "name": "python3",
      "display_name": "Python 3"
    }
  },
  "cells": [
    {
      "cell_type": "markdown",
      "metadata": {
        "id": "view-in-github",
        "colab_type": "text"
      },
      "source": [
        "<a href=\"https://colab.research.google.com/github/R20072127/python-tast/blob/master/Untitled5.ipynb\" target=\"_parent\"><img src=\"https://colab.research.google.com/assets/colab-badge.svg\" alt=\"Open In Colab\"/></a>"
      ]
    },
    {
      "cell_type": "code",
      "metadata": {
        "id": "FSZAbcK4phsQ",
        "colab_type": "code",
        "outputId": "8ae86dc3-6aef-4d66-b9c4-e9081277c506",
        "colab": {
          "base_uri": "https://localhost:8080/",
          "height": 85
        }
      },
      "source": [
        "print(\"hello!\")\n",
        "print(3*2*(17-2.1))\n",
        "print(\"abc\"+\"def\")\n",
        "word = \"art\"\n",
        "print(word.replace(\"r\", \"n\"))"
      ],
      "execution_count": 0,
      "outputs": [
        {
          "output_type": "stream",
          "text": [
            "hello!\n",
            "89.4\n",
            "abcdef\n",
            "ant\n"
          ],
          "name": "stdout"
        }
      ]
    },
    {
      "cell_type": "code",
      "metadata": {
        "id": "CGF7Gh4TqQLj",
        "colab_type": "code",
        "outputId": "c6e54a5a-47b9-4a47-fd16-3a33c258964a",
        "colab": {
          "base_uri": "https://localhost:8080/",
          "height": 51
        }
      },
      "source": [
        "a= 1\n",
        "b= 2\n",
        "c = a/b\n",
        "print(a, \"/\", b, \"=\", c) \n",
        "add = str(a)+\"/\"+str(b)+\"=\"+str(c)\n",
        "print(add)"
      ],
      "execution_count": 0,
      "outputs": [
        {
          "output_type": "stream",
          "text": [
            "1 / 2 = 0.5\n",
            "1/2=0.5\n"
          ],
          "name": "stdout"
        }
      ]
    },
    {
      "cell_type": "code",
      "metadata": {
        "id": "iZpKS5V5ql6R",
        "colab_type": "code",
        "colab": {}
      },
      "source": [
        "input(\"Where do you live? \")\n",
        "print(\"I live in 深坑. \")"
      ],
      "execution_count": 0,
      "outputs": []
    },
    {
      "cell_type": "code",
      "metadata": {
        "id": "2r3q4Ihox7TN",
        "colab_type": "code",
        "outputId": "0556819b-378d-49c6-a603-e23984b86a7f",
        "colab": {
          "base_uri": "https://localhost:8080/",
          "height": 68
        }
      },
      "source": [
        "user_place = input(\"Where do you live? \")\n",
        "text = user_place.capitalize()+ \"!\"\n",
        "print(text) \n",
        "print(\"I hear it's nice there!\") "
      ],
      "execution_count": 0,
      "outputs": [
        {
          "output_type": "stream",
          "text": [
            "Where do you live? 台南\n",
            "台南!\n",
            "I hear it's nice there!\n"
          ],
          "name": "stdout"
        }
      ]
    },
    {
      "cell_type": "code",
      "metadata": {
        "id": "LbSgMTNaySmT",
        "colab_type": "code",
        "outputId": "1e706a40-574d-42c1-ef14-286710472386",
        "colab": {
          "base_uri": "https://localhost:8080/",
          "height": 68
        }
      },
      "source": [
        "num = int(input (\"Enter a number to find the square of: \"))\n",
        "user_input = input(\"Enter a integer to find the square of: \")\n",
        "num = int(user_input) \n",
        "print(num*num)"
      ],
      "execution_count": 0,
      "outputs": [
        {
          "output_type": "stream",
          "text": [
            "Enter a number to find the square of: 4\n",
            "Enter a integer to find the square of: 4\n",
            "16\n"
          ],
          "name": "stdout"
        }
      ]
    }
  ]
}